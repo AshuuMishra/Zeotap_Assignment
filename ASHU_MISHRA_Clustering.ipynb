{
  "nbformat": 4,
  "nbformat_minor": 0,
  "metadata": {
    "colab": {
      "provenance": []
    },
    "kernelspec": {
      "name": "python3",
      "display_name": "Python 3"
    },
    "language_info": {
      "name": "python"
    }
  },
  "cells": [
    {
      "cell_type": "code",
      "execution_count": null,
      "metadata": {
        "id": "yfDXitqkebQE"
      },
      "outputs": [],
      "source": [
        "#Loading the necessary libraries\n",
        "import pandas as pd\n",
        "import matplotlib.pyplot as plt\n",
        "import seaborn as sns\n",
        "\n",
        "from sklearn.cluster import kmeans\n",
        "from sklearn.metrics import davies_bouldin_score"
      ]
    },
    {
      "cell_type": "code",
      "source": [
        "# Load the datasets\n",
        "customers = pd.read_csv(\"/content/Customers.csv\")\n",
        "\n",
        "products = pd.read_csv(\"/content/Products.csv\")\n",
        "\n",
        "transactions = pd.read_csv(\"/content/Transactions.csv\")"
      ],
      "metadata": {
        "id": "FsKOV3lCaPz1"
      },
      "execution_count": null,
      "outputs": []
    },
    {
      "cell_type": "markdown",
      "source": [
        "**Task 3: Customer Segmentation / Clustering**"
      ],
      "metadata": {
        "id": "jYxdGoo1iZlt"
      }
    },
    {
      "cell_type": "code",
      "source": [
        "# Convert dates to datetime format\n",
        "customers['SignupDate'] = pd.to_datetime(customers['SignupDate'])\n",
        "transactions['TransactionDate'] = pd.to_datetime(transactions['TransactionDate'])"
      ],
      "metadata": {
        "id": "E2DaEr7Ui_Ag"
      },
      "execution_count": null,
      "outputs": []
    },
    {
      "cell_type": "code",
      "source": [
        "# Prepare customer-product transaction matrix\n",
        "customer_product = transactions.groupby(['CustomerID', 'ProductID']).agg({'Quantity': 'sum'}).unstack(fill_value=0)\n",
        "customer_product.columns = customer_product.columns.droplevel()"
      ],
      "metadata": {
        "id": "AA5kafZrjXx-"
      },
      "execution_count": null,
      "outputs": []
    },
    {
      "cell_type": "code",
      "source": [
        "# Standardize data\n",
        "from sklearn.metrics.pairwise import cosine_similarity\n",
        "from sklearn.preprocessing import StandardScaler\n",
        "\n",
        "scaler = StandardScaler()\n",
        "customer_product_scaled = scaler.fit_transform(customer_product)"
      ],
      "metadata": {
        "id": "J-ZEon7djMV-"
      },
      "execution_count": null,
      "outputs": []
    },
    {
      "cell_type": "code",
      "source": [
        "# Combine customer profile and transaction data\n",
        "customer_profile = customers.merge(transactions.groupby('CustomerID').agg({'TotalValue': 'sum', 'Quantity': 'sum'}), on='CustomerID')\n",
        "customer_profile['SignupYear'] = customer_profile['SignupDate'].dt.year"
      ],
      "metadata": {
        "id": "bCtb-rAjiPSi"
      },
      "execution_count": null,
      "outputs": []
    },
    {
      "cell_type": "code",
      "source": [
        "# Select features for clustering\n",
        "features = customer_profile[['TotalValue', 'Quantity', 'SignupYear']]\n",
        "features_scaled = scaler.fit_transform(features)\n",
        "features_scaled"
      ],
      "metadata": {
        "colab": {
          "base_uri": "https://localhost:8080/"
        },
        "id": "ZeFreAjEiPB4",
        "outputId": "43ea8ae2-cd78-42e0-cfa6-9731ec17ff9c"
      },
      "execution_count": null,
      "outputs": [
        {
          "output_type": "execute_result",
          "data": {
            "text/plain": [
              "array([[-0.06170143, -0.12203296, -1.27362903],\n",
              "       [-0.87774353, -0.44800021, -1.27362903],\n",
              "       [-0.40585722,  0.20393428,  1.09508291],\n",
              "       [ 1.03254704,  1.67078689, -1.27362903],\n",
              "       [-0.78392861, -0.93695108, -1.27362903],\n",
              "       [ 0.41587942, -0.12203296,  1.09508291],\n",
              "       [-0.48548229, -0.77396745, -1.27362903],\n",
              "       [ 0.43997044,  1.18183602,  1.09508291],\n",
              "       [-1.40630171, -1.58888557, -0.08927306],\n",
              "       [-0.9571662 , -0.12203296, -1.27362903],\n",
              "       [ 0.14369581,  0.04095066, -1.27362903],\n",
              "       [ 0.96492372,  1.0188524 ,  1.09508291],\n",
              "       [ 1.38575064,  0.85586877,  1.09508291],\n",
              "       [-1.72239508, -1.75186919,  1.09508291],\n",
              "       [-1.26353893, -1.42590195, -0.08927306],\n",
              "       [ 0.22269727, -0.44800021,  1.09508291],\n",
              "       [ 0.70375173,  1.34481964, -0.08927306],\n",
              "       [ 0.71908486,  0.85586877,  1.09508291],\n",
              "       [-0.70101045, -0.28501659, -0.08927306],\n",
              "       [-1.39212827, -1.58888557,  1.09508291],\n",
              "       [ 1.0681256 ,  0.69288515, -0.08927306],\n",
              "       [ 0.64973294,  0.3669179 , -0.08927306],\n",
              "       [ 0.92520418,  0.20393428, -1.27362903],\n",
              "       [ 0.08736309,  0.20393428,  1.09508291],\n",
              "       [-1.02704328, -0.77396745, -1.27362903],\n",
              "       [ 0.04471149, -0.12203296,  1.09508291],\n",
              "       [-0.49471609, -0.12203296, -1.27362903],\n",
              "       [ 1.83377022,  1.83377051,  1.09508291],\n",
              "       [-0.9197934 , -0.44800021, -1.27362903],\n",
              "       [-0.50196965,  0.04095066,  1.09508291],\n",
              "       [-0.79971578, -0.44800021,  1.09508291],\n",
              "       [-1.52856197, -1.26291832,  1.09508291],\n",
              "       [-1.82415282, -1.75186919,  1.09508291],\n",
              "       [-0.21559072,  0.69288515, -0.08927306],\n",
              "       [-0.48122096, -0.44800021,  1.09508291],\n",
              "       [-0.8694178 , -0.77396745,  1.09508291],\n",
              "       [ 0.42966447,  0.20393428, -0.08927306],\n",
              "       [-0.42146387,  0.04095066, -1.27362903],\n",
              "       [ 0.42246014,  0.85586877,  1.09508291],\n",
              "       [ 0.27465378, -0.44800021, -1.27362903],\n",
              "       [ 1.46737783,  1.67078689, -0.08927306],\n",
              "       [-0.58248637, -1.0999347 , -0.08927306],\n",
              "       [-1.27784912, -1.0999347 , -0.08927306],\n",
              "       [-0.1297569 , -0.93695108,  1.09508291],\n",
              "       [ 1.39736947,  1.67078689, -1.27362903],\n",
              "       [ 1.18185773,  1.0188524 ,  1.09508291],\n",
              "       [-0.32645096,  0.04095066,  1.09508291],\n",
              "       [ 0.2098531 , -0.12203296,  1.09508291],\n",
              "       [-0.63008308,  0.69288515,  1.09508291],\n",
              "       [-0.21798122, -0.77396745,  1.09508291],\n",
              "       [ 1.22110135,  0.52990153, -0.08927306],\n",
              "       [-0.53570473, -0.44800021,  1.09508291],\n",
              "       [ 1.01153031,  0.85586877, -1.27362903],\n",
              "       [ 2.50159022,  1.83377051,  1.09508291],\n",
              "       [-0.33348571, -0.12203296,  1.09508291],\n",
              "       [-0.15556011, -0.12203296,  1.09508291],\n",
              "       [ 0.58481739,  0.52990153,  1.09508291],\n",
              "       [-1.67990212, -1.91485281,  1.09508291],\n",
              "       [ 1.97255613,  1.34481964,  1.09508291],\n",
              "       [-1.85165727, -1.75186919, -1.27362903],\n",
              "       [-0.72702699, -1.0999347 , -0.08927306],\n",
              "       [-0.99983968, -0.77396745, -1.27362903],\n",
              "       [-1.14281581, -1.26291832,  1.09508291],\n",
              "       [ 0.31314798,  0.04095066, -0.08927306],\n",
              "       [ 2.29553108,  2.32272138,  1.09508291],\n",
              "       [ 0.18159375, -0.61098383,  1.09508291],\n",
              "       [ 0.34108459,  0.20393428, -0.08927306],\n",
              "       [ 1.35832277,  1.50780326, -0.08927306],\n",
              "       [-0.3219927 , -0.44800021, -0.08927306],\n",
              "       [-0.18698674, -0.12203296, -1.27362903],\n",
              "       [-1.13042021, -0.93695108, -1.27362903],\n",
              "       [-0.25585728,  0.04095066,  1.09508291],\n",
              "       [-0.76954183, -0.44800021, -1.27362903],\n",
              "       [-0.22542624, -0.77396745, -1.27362903],\n",
              "       [ 1.302827  ,  2.485705  , -0.08927306],\n",
              "       [-0.62046637, -0.28501659,  1.09508291],\n",
              "       [-1.43868564, -0.93695108, -0.08927306],\n",
              "       [-1.35213522, -1.75186919,  1.09508291],\n",
              "       [ 0.42900257, -0.12203296, -1.27362903],\n",
              "       [-1.34557091, -1.58888557,  1.09508291],\n",
              "       [ 0.04111754,  0.20393428,  1.09508291],\n",
              "       [ 2.24586661,  1.67078689, -1.27362903],\n",
              "       [-1.54508215, -1.42590195, -1.27362903],\n",
              "       [ 0.53268583,  1.18183602,  1.09508291],\n",
              "       [-0.47535685, -0.93695108,  1.09508291],\n",
              "       [-0.38982937,  0.04095066, -1.27362903],\n",
              "       [ 1.71597369,  1.50780326,  1.09508291],\n",
              "       [-0.72860243, -0.44800021, -0.08927306],\n",
              "       [-0.4983921 , -0.93695108,  1.09508291],\n",
              "       [ 0.36696985,  0.52990153, -0.08927306],\n",
              "       [-0.18032944,  1.18183602, -0.08927306],\n",
              "       [-0.24690794, -0.44800021,  1.09508291],\n",
              "       [ 0.99978567,  1.0188524 ,  1.09508291],\n",
              "       [-1.25834765, -0.61098383, -0.08927306],\n",
              "       [-1.19418153, -1.26291832, -0.08927306],\n",
              "       [ 1.42533343,  0.52990153, -1.27362903],\n",
              "       [-1.82147239, -1.91485281, -0.08927306],\n",
              "       [-0.16919199,  0.20393428,  1.09508291],\n",
              "       [ 1.77696159,  1.34481964, -0.08927306],\n",
              "       [ 0.84030578,  0.20393428, -0.08927306],\n",
              "       [ 1.13982427,  1.18183602, -0.08927306],\n",
              "       [ 1.45784864,  1.34481964, -1.27362903],\n",
              "       [-0.549632  , -0.93695108, -1.27362903],\n",
              "       [ 1.70222693,  1.34481964, -1.27362903],\n",
              "       [ 0.73308872,  0.52990153,  1.09508291],\n",
              "       [-0.28883747,  0.04095066, -1.27362903],\n",
              "       [ 0.08566731, -0.12203296, -0.08927306],\n",
              "       [ 0.75556601,  0.52990153, -1.27362903],\n",
              "       [ 1.10495684,  3.13763949, -1.27362903],\n",
              "       [-1.38123699, -1.42590195,  1.09508291],\n",
              "       [-0.81741753,  0.52990153,  1.09508291],\n",
              "       [-0.82480785, -0.77396745, -1.27362903],\n",
              "       [ 0.73563239,  1.50780326, -1.27362903],\n",
              "       [ 1.26533386,  0.85586877,  1.09508291],\n",
              "       [-0.18059201, -0.77396745,  1.09508291],\n",
              "       [-0.38764126, -0.28501659,  1.09508291],\n",
              "       [ 0.30685718, -0.12203296,  1.09508291],\n",
              "       [-0.01780261, -0.44800021, -1.27362903],\n",
              "       [-1.24486894, -1.0999347 , -0.08927306],\n",
              "       [-0.54554572, -0.61098383, -0.08927306],\n",
              "       [-1.36362276, -0.77396745, -0.08927306],\n",
              "       [ 0.87810526,  0.69288515, -1.27362903],\n",
              "       [-1.13084142, -1.42590195, -0.08927306],\n",
              "       [ 0.43598809,  1.0188524 ,  1.09508291],\n",
              "       [-0.26987756, -0.44800021, -1.27362903],\n",
              "       [ 0.60077413,  0.04095066,  1.09508291],\n",
              "       [-0.12824164, -0.28501659,  1.09508291],\n",
              "       [-1.47375546, -1.58888557, -0.08927306],\n",
              "       [-0.61688335, -0.61098383,  1.09508291],\n",
              "       [-1.5677509 , -1.75186919, -0.08927306],\n",
              "       [-0.83339068, -0.93695108, -1.27362903],\n",
              "       [-0.88402339, -0.77396745, -0.08927306],\n",
              "       [-0.31890748, -0.28501659, -0.08927306],\n",
              "       [-0.43107511,  0.52990153, -1.27362903],\n",
              "       [-0.18146725, -0.44800021, -1.27362903],\n",
              "       [ 0.454948  ,  1.34481964,  1.09508291],\n",
              "       [-0.07371958, -0.28501659,  1.09508291],\n",
              "       [ 1.17224101,  0.69288515,  1.09508291],\n",
              "       [ 0.12927621,  0.04095066, -1.27362903],\n",
              "       [-0.86384908, -1.26291832, -0.08927306],\n",
              "       [ 3.94217164,  2.32272138, -0.08927306],\n",
              "       [-0.67189773, -0.28501659,  1.09508291],\n",
              "       [ 1.40985807,  1.34481964,  1.09508291],\n",
              "       [-1.18301673, -0.77396745,  1.09508291],\n",
              "       [ 1.2603231 ,  1.18183602, -0.08927306],\n",
              "       [-0.49041646, -0.77396745,  1.09508291],\n",
              "       [-0.28383765,  0.20393428, -1.27362903],\n",
              "       [ 1.08884146,  0.85586877, -0.08927306],\n",
              "       [ 0.51281786,  0.3669179 , -0.08927306],\n",
              "       [-1.57924938, -1.75186919, -1.27362903],\n",
              "       [-1.77419842, -1.42590195,  1.09508291],\n",
              "       [-0.04455764, -0.44800021, -1.27362903],\n",
              "       [ 0.69881209,  0.69288515, -1.27362903],\n",
              "       [ 0.1292598 , -0.28501659,  1.09508291],\n",
              "       [ 1.04510128,  0.69288515, -0.08927306],\n",
              "       [ 2.27953058,  2.485705  , -0.08927306],\n",
              "       [-0.87043527, -0.44800021,  1.09508291],\n",
              "       [ 0.1363219 , -0.61098383, -0.08927306],\n",
              "       [-0.76304864, -0.77396745, -1.27362903],\n",
              "       [-0.29560418,  0.20393428, -1.27362903],\n",
              "       [-0.17804834,  0.20393428, -1.27362903],\n",
              "       [ 0.73023872,  1.18183602, -1.27362903],\n",
              "       [ 1.26251668,  1.0188524 , -0.08927306],\n",
              "       [-0.20766431, -0.44800021, -0.08927306],\n",
              "       [ 1.77279325,  2.81167225, -1.27362903],\n",
              "       [-0.58092188, -0.28501659, -1.27362903],\n",
              "       [-0.63832129, -0.77396745,  1.09508291],\n",
              "       [ 0.86786493, -0.12203296, -1.27362903],\n",
              "       [ 0.58313255,  1.18183602, -0.08927306],\n",
              "       [ 0.80107856,  0.3669179 , -0.08927306],\n",
              "       [ 0.91792873,  0.3669179 , -1.27362903],\n",
              "       [-0.69232368, -0.44800021,  1.09508291],\n",
              "       [ 1.28043724,  1.18183602, -1.27362903],\n",
              "       [-0.31473914, -0.12203296, -1.27362903],\n",
              "       [ 1.50060964,  2.15973776, -1.27362903],\n",
              "       [-0.6214182 , -0.12203296, -1.27362903],\n",
              "       [-0.52377957, -0.61098383,  1.09508291],\n",
              "       [-0.4149105 , -0.61098383, -0.08927306],\n",
              "       [ 0.10148183,  0.20393428, -1.27362903],\n",
              "       [-0.06548685,  0.3669179 , -0.08927306],\n",
              "       [ 0.82789923,  0.69288515,  1.09508291],\n",
              "       [ 0.20945925, -0.12203296,  1.09508291],\n",
              "       [-0.04055341, -0.28501659, -1.27362903],\n",
              "       [-0.02351903, -0.61098383, -0.08927306],\n",
              "       [-0.93304784, -0.93695108, -0.08927306],\n",
              "       [ 0.62641323, -0.28501659,  1.09508291],\n",
              "       [ 1.99336499,  1.34481964, -1.27362903],\n",
              "       [-0.45080633, -0.28501659,  1.09508291],\n",
              "       [-0.2649215 ,  0.20393428,  1.09508291],\n",
              "       [-0.25674347, -0.28501659,  1.09508291],\n",
              "       [-0.76287906, -0.77396745, -1.27362903],\n",
              "       [-0.25055113, -0.28501659, -0.08927306],\n",
              "       [ 0.21982538,  0.20393428,  1.09508291],\n",
              "       [ 0.31123339,  0.69288515,  1.09508291],\n",
              "       [ 0.82905346, -0.12203296, -1.27362903],\n",
              "       [-0.84168906, -0.61098383, -0.08927306],\n",
              "       [-1.38697529, -1.58888557, -1.27362903],\n",
              "       [-0.81399315, -0.61098383, -1.27362903],\n",
              "       [ 0.70636652,  0.52990153, -0.08927306]])"
            ]
          },
          "metadata": {},
          "execution_count": 12
        }
      ]
    },
    {
      "cell_type": "code",
      "source": [
        "# Perform KMeans clustering\n",
        "from sklearn.cluster import KMeans\n",
        "kmeans = KMeans(n_clusters=4, random_state=42)\n",
        "kmeans.fit(features_scaled)\n",
        "customer_profile['Cluster'] = kmeans.labels_"
      ],
      "metadata": {
        "id": "Ghm5pe82jpl4"
      },
      "execution_count": null,
      "outputs": []
    },
    {
      "cell_type": "code",
      "source": [
        "# Evaluate clustering\n",
        "from sklearn.metrics import davies_bouldin_score\n",
        "db_index = davies_bouldin_score(features_scaled, kmeans.labels_)\n",
        "# Print results\n",
        "print(\"Davies-Bouldin Index:\", db_index)"
      ],
      "metadata": {
        "colab": {
          "base_uri": "https://localhost:8080/"
        },
        "id": "HrbHEQRmj77j",
        "outputId": "07e84687-158b-4858-f8d4-a9970de6b44e"
      },
      "execution_count": null,
      "outputs": [
        {
          "output_type": "stream",
          "name": "stdout",
          "text": [
            "Davies-Bouldin Index: 0.8317768389000867\n"
          ]
        }
      ]
    },
    {
      "cell_type": "code",
      "source": [
        "# Visualize clusters\n",
        "sns.scatterplot(data=customer_profile, x='TotalValue', y='Quantity', hue='Cluster', palette='tab10')\n",
        "plt.title(\"Customer Segmentation\")\n",
        "plt.xlabel(\"Total Value\")\n",
        "plt.ylabel(\"Quantity\")\n",
        "plt.legend(title=\"Cluster\")\n",
        "plt.show()"
      ],
      "metadata": {
        "colab": {
          "base_uri": "https://localhost:8080/",
          "height": 472
        },
        "id": "OGhh8Lr9j9EL",
        "outputId": "d25d1fd7-d8dd-4a82-df1e-4a12e664965d"
      },
      "execution_count": null,
      "outputs": [
        {
          "output_type": "display_data",
          "data": {
            "text/plain": [
              "<Figure size 640x480 with 1 Axes>"
            ],
            "image/png": "[encoded data removed]"
          },
          "metadata": {}
        }
      ]
    },
    {
      "cell_type": "code",
      "source": [
        "# Save clusster assignments\n",
        "customer_profile[['CustomerID', 'Cluster']].to_csv('Customer_Clusters.csv', index=False)\n",
        "\n",
        "\n",
        "# from google.colab import files\n",
        "\n",
        "# # Download the Lookalike.csv file\n",
        "# files.download('Customer_Clusters.csv')\n"
      ],
      "metadata": {
        "colab": {
          "base_uri": "https://localhost:8080/",
          "height": 17
        },
        "id": "-EG5tSaCgAwW",
        "outputId": "80923922-e13c-469a-ac17-10d5304365af"
      },
      "execution_count": null,
      "outputs": [
        {
          "output_type": "display_data",
          "data": {
            "text/plain": [
              "<IPython.core.display.Javascript object>"
            ],
            "application/javascript": [
              "\n",
              "    async function download(id, filename, size) {\n",
              "      if (!google.colab.kernel.accessAllowed) {\n",
              "        return;\n",
              "      }\n",
              "      const div = document.createElement('div');\n",
              "      const label = document.createElement('label');\n",
              "      label.textContent = `Downloading \"${filename}\": `;\n",
              "      div.appendChild(label);\n",
              "      const progress = document.createElement('progress');\n",
              "      progress.max = size;\n",
              "      div.appendChild(progress);\n",
              "      document.body.appendChild(div);\n",
              "\n",
              "      const buffers = [];\n",
              "      let downloaded = 0;\n",
              "\n",
              "      const channel = await google.colab.kernel.comms.open(id);\n",
              "      // Send a message to notify the kernel that we're ready.\n",
              "      channel.send({})\n",
              "\n",
              "      for await (const message of channel.messages) {\n",
              "        // Send a message to notify the kernel that we're ready.\n",
              "        channel.send({})\n",
              "        if (message.buffers) {\n",
              "          for (const buffer of message.buffers) {\n",
              "            buffers.push(buffer);\n",
              "            downloaded += buffer.byteLength;\n",
              "            progress.value = downloaded;\n",
              "          }\n",
              "        }\n",
              "      }\n",
              "      const blob = new Blob(buffers, {type: 'application/binary'});\n",
              "      const a = document.createElement('a');\n",
              "      a.href = window.URL.createObjectURL(blob);\n",
              "      a.download = filename;\n",
              "      div.appendChild(a);\n",
              "      a.click();\n",
              "      div.remove();\n",
              "    }\n",
              "  "
            ]
          },
          "metadata": {}
        },
        {
          "output_type": "display_data",
          "data": {
            "text/plain": [
              "<IPython.core.display.Javascript object>"
            ],
            "application/javascript": [
              "download(\"download_ab623646-6ae4-4ff9-994e-57192de315b4\", \"Customer_Clusters.csv\", 1611)"
            ]
          },
          "metadata": {}
        }
      ]
    }
  ]
}