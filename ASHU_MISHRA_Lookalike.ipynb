{
  "nbformat": 4,
  "nbformat_minor": 0,
  "metadata": {
    "colab": {
      "provenance": []
    },
    "kernelspec": {
      "name": "python3",
      "display_name": "Python 3"
    },
    "language_info": {
      "name": "python"
    }
  },
  "cells": [
    {
      "cell_type": "code",
      "execution_count": 2,
      "metadata": {
        "id": "FVpC5XJI5Eur"
      },
      "outputs": [],
      "source": [
        "#importing all the necessary libraries\n",
        "import pandas as pd\n",
        "import matplotlib.pyplot as plt\n",
        "import seaborn as sns"
      ]
    },
    {
      "cell_type": "code",
      "source": [
        "# Load the datasets\n",
        "customers = pd.read_csv(\"/content/Customers.csv\")\n",
        "\n",
        "products = pd.read_csv(\"/content/Products.csv\")\n",
        "\n",
        "transactions = pd.read_csv(\"/content/Transactions.csv\")"
      ],
      "metadata": {
        "colab": {
          "base_uri": "https://localhost:8080/"
        },
        "id": "FsKOV3lCaPz1",
        "outputId": "7f38af3b-5b19-4bed-97e5-174d7129ca16"
      },
      "execution_count": 4,
      "outputs": [
        {
          "output_type": "stream",
          "name": "stdout",
          "text": [
            "\n",
            "\n"
          ]
        }
      ]
    },
    {
      "cell_type": "code",
      "source": [
        "customers.columns"
      ],
      "metadata": {
        "colab": {
          "base_uri": "https://localhost:8080/"
        },
        "id": "Wpq5HsVwa2Db",
        "outputId": "7dfef3ee-b72b-4269-cbd7-b8c355cc62a5"
      },
      "execution_count": 5,
      "outputs": [
        {
          "output_type": "execute_result",
          "data": {
            "text/plain": [
              "Index(['CustomerID', 'CustomerName', 'Region', 'SignupDate'], dtype='object')"
            ]
          },
          "metadata": {},
          "execution_count": 5
        }
      ]
    },
    {
      "cell_type": "code",
      "source": [
        "products.columns"
      ],
      "metadata": {
        "colab": {
          "base_uri": "https://localhost:8080/"
        },
        "id": "X38GfRYfa-nx",
        "outputId": "42e26605-a3f1-4a40-92ea-7ea69d15cf8f"
      },
      "execution_count": 6,
      "outputs": [
        {
          "output_type": "execute_result",
          "data": {
            "text/plain": [
              "Index(['ProductID', 'ProductName', 'Category', 'Price'], dtype='object')"
            ]
          },
          "metadata": {},
          "execution_count": 6
        }
      ]
    },
    {
      "cell_type": "code",
      "source": [
        "transactions.columns"
      ],
      "metadata": {
        "colab": {
          "base_uri": "https://localhost:8080/"
        },
        "id": "m-jd7zsea-a-",
        "outputId": "ad481430-6eec-4ee2-e720-f80aea49aac8"
      },
      "execution_count": 7,
      "outputs": [
        {
          "output_type": "execute_result",
          "data": {
            "text/plain": [
              "Index(['TransactionID', 'CustomerID', 'ProductID', 'TransactionDate',\n",
              "       'Quantity', 'TotalValue', 'Price'],\n",
              "      dtype='object')"
            ]
          },
          "metadata": {},
          "execution_count": 7
        }
      ]
    },
    {
      "cell_type": "code",
      "source": [
        "#converting date to datetime format\n",
        "customers['SignupDate']=pd.to_datetime(customers['SignupDate'])\n",
        "transactions['SignupDate']=pd.to_datetime(transactions['TransactionDate'])"
      ],
      "metadata": {
        "id": "kZ7mJGhgbGv-"
      },
      "execution_count": 8,
      "outputs": []
    },
    {
      "cell_type": "markdown",
      "source": [
        "Lookalike Model"
      ],
      "metadata": {
        "id": "XXjszjVwboiu"
      }
    },
    {
      "cell_type": "code",
      "source": [
        "from sklearn.metrics.pairwise import cosine_similarity\n",
        "from sklearn.preprocessing import StandardScaler\n",
        "\n",
        "#prepare customer-product transaction matrix\n",
        "customer_product = transactions.groupby(['CustomerID', 'ProductID']).agg({'Quantity': 'sum'}).unstack(fill_value=0)\n",
        "customer_product.columns = customer_product.columns.droplevel()"
      ],
      "metadata": {
        "id": "BKLf7SfLbsSJ"
      },
      "execution_count": 9,
      "outputs": []
    },
    {
      "cell_type": "code",
      "source": [
        "#we will standardise the data\n",
        "scaler=StandardScaler()\n",
        "customer_product_scaled=scaler.fit_transform(customer_product)\n",
        "customer_product_scaled"
      ],
      "metadata": {
        "colab": {
          "base_uri": "https://localhost:8080/"
        },
        "id": "5AHh7NgKdXSz",
        "outputId": "578d5481-760d-4d37-da3a-290070cb04d8"
      },
      "execution_count": 10,
      "outputs": [
        {
          "output_type": "execute_result",
          "data": {
            "text/plain": [
              "array([[-0.19155441, -0.19831279, -0.23403059, ..., -0.17354437,\n",
              "        -0.12925978, -0.13742396],\n",
              "       [-0.19155441, -0.19831279, -0.23403059, ..., -0.17354437,\n",
              "        -0.12925978, -0.13742396],\n",
              "       [-0.19155441,  6.11596653, -0.23403059, ..., -0.17354437,\n",
              "        -0.12925978, -0.13742396],\n",
              "       ...,\n",
              "       [-0.19155441, -0.19831279, -0.23403059, ..., -0.17354437,\n",
              "        -0.12925978, -0.13742396],\n",
              "       [-0.19155441, -0.19831279, -0.23403059, ..., -0.17354437,\n",
              "        -0.12925978, -0.13742396],\n",
              "       [-0.19155441, -0.19831279, -0.23403059, ..., -0.17354437,\n",
              "        -0.12925978, -0.13742396]])"
            ]
          },
          "metadata": {},
          "execution_count": 10
        }
      ]
    },
    {
      "cell_type": "code",
      "source": [
        "#lets compute cosine matrix\n",
        "similarity_matrix = cosine_similarity(customer_product_scaled)\n",
        "similarity_matrix"
      ],
      "metadata": {
        "colab": {
          "base_uri": "https://localhost:8080/"
        },
        "id": "TStqDvridqPY",
        "outputId": "9a891c28-f195-4aed-be06-51a8dfd8253e"
      },
      "execution_count": 12,
      "outputs": [
        {
          "output_type": "execute_result",
          "data": {
            "text/plain": [
              "array([[ 1.        , -0.04882928, -0.06147586, ..., -0.03838458,\n",
              "         0.34902818, -0.06724444],\n",
              "       [-0.04882928,  1.        , -0.03569919, ..., -0.00165323,\n",
              "        -0.03453342, -0.04030028],\n",
              "       [-0.06147586, -0.03569919,  1.        , ..., -0.03180765,\n",
              "        -0.04766667, -0.04790728],\n",
              "       ...,\n",
              "       [-0.03838458, -0.00165323, -0.03180765, ...,  1.        ,\n",
              "        -0.00988126,  0.365046  ],\n",
              "       [ 0.34902818, -0.03453342, -0.04766667, ..., -0.00988126,\n",
              "         1.        , -0.05334491],\n",
              "       [-0.06724444, -0.04030028, -0.04790728, ...,  0.365046  ,\n",
              "        -0.05334491,  1.        ]])"
            ]
          },
          "metadata": {},
          "execution_count": 12
        }
      ]
    },
    {
      "cell_type": "code",
      "source": [
        "# Create lookalike recommendations for the first 20 customers\n",
        "customer_ids = customer_product.index.tolist()\n",
        "lookalikes = {}"
      ],
      "metadata": {
        "id": "1iUx6ro4d3sc"
      },
      "execution_count": 13,
      "outputs": []
    },
    {
      "cell_type": "code",
      "source": [
        "for i, customer_id in enumerate(customer_ids[:20]):\n",
        "    similar_indices = similarity_matrix[i].argsort()[::-1][1:4]  # Top 3 similar customers\n",
        "    similar_scores = similarity_matrix[i][similar_indices]\n",
        "    similar_customers = [(customer_ids[idx], score) for idx, score in zip(similar_indices, similar_scores)]\n",
        "    lookalikes[customer_id] = similar_customers"
      ],
      "metadata": {
        "id": "8O5fkcVWeCL3"
      },
      "execution_count": 14,
      "outputs": []
    },
    {
      "cell_type": "code",
      "source": [
        "lookalikes_df = pd.DataFrame.from_dict(lookalikes, orient='index', columns=['Lookalike_1', 'Lookalike_2', 'Lookalike_3'])\n",
        "lookalikes_df.to_csv('Lookalike.csv', index_label='CustomerID')\n",
        "lookalikes_df"
      ],
      "metadata": {
        "colab": {
          "base_uri": "https://localhost:8080/",
          "height": 1000
        },
        "id": "ddp6FC6_eEsl",
        "outputId": "bd01e233-ed44-4715-da86-1303170a0dca"
      },
      "execution_count": 16,
      "outputs": [
        {
          "output_type": "execute_result",
          "data": {
            "text/plain": [
              "                        Lookalike_1                   Lookalike_2  \\\n",
              "C0001  (C0194, 0.40492753118932373)   (C0104, 0.3740015051203949)   \n",
              "C0002  (C0030, 0.40461685378594003)   (C0091, 0.3837780302090941)   \n",
              "C0003   (C0181, 0.4775717980039302)  (C0134, 0.47101615387801016)   \n",
              "C0004   (C0070, 0.3519014889798181)  (C0175, 0.31609789792660986)   \n",
              "C0005  (C0096, 0.48745613929263837)  (C0023, 0.47025182492905426)   \n",
              "C0006  (C0040, 0.48690905811550494)   (C0178, 0.3978109049066894)   \n",
              "C0007   (C0079, 0.6174415040345886)  (C0118, 0.47827697423174215)   \n",
              "C0008    (C0144, 0.326750548833923)   (C0169, 0.2788847602830608)   \n",
              "C0009   (C0140, 0.5334414848517175)   (C0083, 0.5308424299367163)   \n",
              "C0010   (C0094, 0.5150640624213312)  (C0092, 0.40551651716491116)   \n",
              "C0011   (C0135, 0.5132829815830873)  (C0120, 0.36518919196353133)   \n",
              "C0012  (C0164, 0.48825704802260905)   (C0158, 0.3751295627905279)   \n",
              "C0013  (C0169, 0.45075553111040606)  (C0092, 0.36768012556506685)   \n",
              "C0014   (C0128, 0.9029431929322238)    (C0159, 0.762785383779116)   \n",
              "C0015    (C0073, 0.723118686204292)   (C0036, 0.5997106100667376)   \n",
              "C0016   (C0187, 0.6344636680418954)   (C0064, 0.5402930019578338)   \n",
              "C0017  (C0071, 0.45552083064813587)  (C0024, 0.35875591144627517)   \n",
              "C0018   (C0177, 0.3650726150609098)   (C0115, 0.3248317582517501)   \n",
              "C0019    (C0064, 0.397781517608895)  (C0024, 0.38594281438544253)   \n",
              "C0020   (C0026, 0.6270690651519939)   (C0104, 0.4724650853066016)   \n",
              "\n",
              "                        Lookalike_3  \n",
              "C0001  (C0020, 0.36660865634533324)  \n",
              "C0002   (C0071, 0.3201579810580884)  \n",
              "C0003  (C0144, 0.42379990716450344)  \n",
              "C0004  (C0132, 0.27959855424498276)  \n",
              "C0005   (C0055, 0.3820996241448576)  \n",
              "C0006   (C0058, 0.3141630233621915)  \n",
              "C0007    (C0020, 0.456615034666693)  \n",
              "C0008    (C0091, 0.260560334551999)  \n",
              "C0009  (C0162, 0.49889269779678075)  \n",
              "C0010  (C0143, 0.36601219885018854)  \n",
              "C0011  (C0173, 0.30476072206930577)  \n",
              "C0012   (C0173, 0.3562327676008179)  \n",
              "C0013  (C0099, 0.31724495457460594)  \n",
              "C0014   (C0058, 0.4170254520952296)  \n",
              "C0015   (C0059, 0.4509810721195059)  \n",
              "C0016   (C0052, 0.4583307205365149)  \n",
              "C0017    (C0037, 0.355628091912283)  \n",
              "C0018  (C0059, 0.31189939390793797)  \n",
              "C0019  (C0084, 0.31264571801309193)  \n",
              "C0020    (C0007, 0.456615034666693)  "
            ],
            "text/html": [
              "\n",
              "  <div id=\"df-a7911334-8fa5-496b-b4bd-13e2915faefb\" class=\"colab-df-container\">\n",
              "    <div>\n",
              "<style scoped>\n",
              "    .dataframe tbody tr th:only-of-type {\n",
              "        vertical-align: middle;\n",
              "    }\n",
              "\n",
              "    .dataframe tbody tr th {\n",
              "        vertical-align: top;\n",
              "    }\n",
              "\n",
              "    .dataframe thead th {\n",
              "        text-align: right;\n",
              "    }\n",
              "</style>\n",
              "<table border=\"1\" class=\"dataframe\">\n",
              "  <thead>\n",
              "    <tr style=\"text-align: right;\">\n",
              "      <th></th>\n",
              "      <th>Lookalike_1</th>\n",
              "      <th>Lookalike_2</th>\n",
              "      <th>Lookalike_3</th>\n",
              "    </tr>\n",
              "  </thead>\n",
              "  <tbody>\n",
              "    <tr>\n",
              "      <th>C0001</th>\n",
              "      <td>(C0194, 0.40492753118932373)</td>\n",
              "      <td>(C0104, 0.3740015051203949)</td>\n",
              "      <td>(C0020, 0.36660865634533324)</td>\n",
              "    </tr>\n",
              "    <tr>\n",
              "      <th>C0002</th>\n",
              "      <td>(C0030, 0.40461685378594003)</td>\n",
              "      <td>(C0091, 0.3837780302090941)</td>\n",
              "      <td>(C0071, 0.3201579810580884)</td>\n",
              "    </tr>\n",
              "    <tr>\n",
              "      <th>C0003</th>\n",
              "      <td>(C0181, 0.4775717980039302)</td>\n",
              "      <td>(C0134, 0.47101615387801016)</td>\n",
              "      <td>(C0144, 0.42379990716450344)</td>\n",
              "    </tr>\n",
              "    <tr>\n",
              "      <th>C0004</th>\n",
              "      <td>(C0070, 0.3519014889798181)</td>\n",
              "      <td>(C0175, 0.31609789792660986)</td>\n",
              "      <td>(C0132, 0.27959855424498276)</td>\n",
              "    </tr>\n",
              "    <tr>\n",
              "      <th>C0005</th>\n",
              "      <td>(C0096, 0.48745613929263837)</td>\n",
              "      <td>(C0023, 0.47025182492905426)</td>\n",
              "      <td>(C0055, 0.3820996241448576)</td>\n",
              "    </tr>\n",
              "    <tr>\n",
              "      <th>C0006</th>\n",
              "      <td>(C0040, 0.48690905811550494)</td>\n",
              "      <td>(C0178, 0.3978109049066894)</td>\n",
              "      <td>(C0058, 0.3141630233621915)</td>\n",
              "    </tr>\n",
              "    <tr>\n",
              "      <th>C0007</th>\n",
              "      <td>(C0079, 0.6174415040345886)</td>\n",
              "      <td>(C0118, 0.47827697423174215)</td>\n",
              "      <td>(C0020, 0.456615034666693)</td>\n",
              "    </tr>\n",
              "    <tr>\n",
              "      <th>C0008</th>\n",
              "      <td>(C0144, 0.326750548833923)</td>\n",
              "      <td>(C0169, 0.2788847602830608)</td>\n",
              "      <td>(C0091, 0.260560334551999)</td>\n",
              "    </tr>\n",
              "    <tr>\n",
              "      <th>C0009</th>\n",
              "      <td>(C0140, 0.5334414848517175)</td>\n",
              "      <td>(C0083, 0.5308424299367163)</td>\n",
              "      <td>(C0162, 0.49889269779678075)</td>\n",
              "    </tr>\n",
              "    <tr>\n",
              "      <th>C0010</th>\n",
              "      <td>(C0094, 0.5150640624213312)</td>\n",
              "      <td>(C0092, 0.40551651716491116)</td>\n",
              "      <td>(C0143, 0.36601219885018854)</td>\n",
              "    </tr>\n",
              "    <tr>\n",
              "      <th>C0011</th>\n",
              "      <td>(C0135, 0.5132829815830873)</td>\n",
              "      <td>(C0120, 0.36518919196353133)</td>\n",
              "      <td>(C0173, 0.30476072206930577)</td>\n",
              "    </tr>\n",
              "    <tr>\n",
              "      <th>C0012</th>\n",
              "      <td>(C0164, 0.48825704802260905)</td>\n",
              "      <td>(C0158, 0.3751295627905279)</td>\n",
              "      <td>(C0173, 0.3562327676008179)</td>\n",
              "    </tr>\n",
              "    <tr>\n",
              "      <th>C0013</th>\n",
              "      <td>(C0169, 0.45075553111040606)</td>\n",
              "      <td>(C0092, 0.36768012556506685)</td>\n",
              "      <td>(C0099, 0.31724495457460594)</td>\n",
              "    </tr>\n",
              "    <tr>\n",
              "      <th>C0014</th>\n",
              "      <td>(C0128, 0.9029431929322238)</td>\n",
              "      <td>(C0159, 0.762785383779116)</td>\n",
              "      <td>(C0058, 0.4170254520952296)</td>\n",
              "    </tr>\n",
              "    <tr>\n",
              "      <th>C0015</th>\n",
              "      <td>(C0073, 0.723118686204292)</td>\n",
              "      <td>(C0036, 0.5997106100667376)</td>\n",
              "      <td>(C0059, 0.4509810721195059)</td>\n",
              "    </tr>\n",
              "    <tr>\n",
              "      <th>C0016</th>\n",
              "      <td>(C0187, 0.6344636680418954)</td>\n",
              "      <td>(C0064, 0.5402930019578338)</td>\n",
              "      <td>(C0052, 0.4583307205365149)</td>\n",
              "    </tr>\n",
              "    <tr>\n",
              "      <th>C0017</th>\n",
              "      <td>(C0071, 0.45552083064813587)</td>\n",
              "      <td>(C0024, 0.35875591144627517)</td>\n",
              "      <td>(C0037, 0.355628091912283)</td>\n",
              "    </tr>\n",
              "    <tr>\n",
              "      <th>C0018</th>\n",
              "      <td>(C0177, 0.3650726150609098)</td>\n",
              "      <td>(C0115, 0.3248317582517501)</td>\n",
              "      <td>(C0059, 0.31189939390793797)</td>\n",
              "    </tr>\n",
              "    <tr>\n",
              "      <th>C0019</th>\n",
              "      <td>(C0064, 0.397781517608895)</td>\n",
              "      <td>(C0024, 0.38594281438544253)</td>\n",
              "      <td>(C0084, 0.31264571801309193)</td>\n",
              "    </tr>\n",
              "    <tr>\n",
              "      <th>C0020</th>\n",
              "      <td>(C0026, 0.6270690651519939)</td>\n",
              "      <td>(C0104, 0.4724650853066016)</td>\n",
              "      <td>(C0007, 0.456615034666693)</td>\n",
              "    </tr>\n",
              "  </tbody>\n",
              "</table>\n",
              "</div>\n",
              "    <div class=\"colab-df-buttons\">\n",
              "\n",
              "  <div class=\"colab-df-container\">\n",
              "    <button class=\"colab-df-convert\" onclick=\"convertToInteractive('df-a7911334-8fa5-496b-b4bd-13e2915faefb')\"\n",
              "            title=\"Convert this dataframe to an interactive table.\"\n",
              "            style=\"display:none;\">\n",
              "\n",
              "  <svg xmlns=\"http://www.w3.org/2000/svg\" height=\"24px\" viewBox=\"0 -960 960 960\">\n",
              "    <path d=\"M120-120v-720h720v720H120Zm60-500h600v-160H180v160Zm220 220h160v-160H400v160Zm0 220h160v-160H400v160ZM180-400h160v-160H180v160Zm440 0h160v-160H620v160ZM180-180h160v-160H180v160Zm440 0h160v-160H620v160Z\"/>\n",
              "  </svg>\n",
              "    </button>\n",
              "\n",
              "  <style>\n",
              "    .colab-df-container {\n",
              "      display:flex;\n",
              "      gap: 12px;\n",
              "    }\n",
              "\n",
              "    .colab-df-convert {\n",
              "      background-color: #E8F0FE;\n",
              "      border: none;\n",
              "      border-radius: 50%;\n",
              "      cursor: pointer;\n",
              "      display: none;\n",
              "      fill: #1967D2;\n",
              "      height: 32px;\n",
              "      padding: 0 0 0 0;\n",
              "      width: 32px;\n",
              "    }\n",
              "\n",
              "    .colab-df-convert:hover {\n",
              "      background-color: #E2EBFA;\n",
              "      box-shadow: 0px 1px 2px rgba(60, 64, 67, 0.3), 0px 1px 3px 1px rgba(60, 64, 67, 0.15);\n",
              "      fill: #174EA6;\n",
              "    }\n",
              "\n",
              "    .colab-df-buttons div {\n",
              "      margin-bottom: 4px;\n",
              "    }\n",
              "\n",
              "    [theme=dark] .colab-df-convert {\n",
              "      background-color: #3B4455;\n",
              "      fill: #D2E3FC;\n",
              "    }\n",
              "\n",
              "    [theme=dark] .colab-df-convert:hover {\n",
              "      background-color: #434B5C;\n",
              "      box-shadow: 0px 1px 3px 1px rgba(0, 0, 0, 0.15);\n",
              "      filter: drop-shadow(0px 1px 2px rgba(0, 0, 0, 0.3));\n",
              "      fill: #FFFFFF;\n",
              "    }\n",
              "  </style>\n",
              "\n",
              "    <script>\n",
              "      const buttonEl =\n",
              "        document.querySelector('#df-a7911334-8fa5-496b-b4bd-13e2915faefb button.colab-df-convert');\n",
              "      buttonEl.style.display =\n",
              "        google.colab.kernel.accessAllowed ? 'block' : 'none';\n",
              "\n",
              "      async function convertToInteractive(key) {\n",
              "        const element = document.querySelector('#df-a7911334-8fa5-496b-b4bd-13e2915faefb');\n",
              "        const dataTable =\n",
              "          await google.colab.kernel.invokeFunction('convertToInteractive',\n",
              "                                                    [key], {});\n",
              "        if (!dataTable) return;\n",
              "\n",
              "        const docLinkHtml = 'Like what you see? Visit the ' +\n",
              "          '<a target=\"_blank\" href=https://colab.research.google.com/notebooks/data_table.ipynb>data table notebook</a>'\n",
              "          + ' to learn more about interactive tables.';\n",
              "        element.innerHTML = '';\n",
              "        dataTable['output_type'] = 'display_data';\n",
              "        await google.colab.output.renderOutput(dataTable, element);\n",
              "        const docLink = document.createElement('div');\n",
              "        docLink.innerHTML = docLinkHtml;\n",
              "        element.appendChild(docLink);\n",
              "      }\n",
              "    </script>\n",
              "  </div>\n",
              "\n",
              "\n",
              "<div id=\"df-895b8e51-4e1f-4abd-88cd-537f5eaf5902\">\n",
              "  <button class=\"colab-df-quickchart\" onclick=\"quickchart('df-895b8e51-4e1f-4abd-88cd-537f5eaf5902')\"\n",
              "            title=\"Suggest charts\"\n",
              "            style=\"display:none;\">\n",
              "\n",
              "<svg xmlns=\"http://www.w3.org/2000/svg\" height=\"24px\"viewBox=\"0 0 24 24\"\n",
              "     width=\"24px\">\n",
              "    <g>\n",
              "        <path d=\"M19 3H5c-1.1 0-2 .9-2 2v14c0 1.1.9 2 2 2h14c1.1 0 2-.9 2-2V5c0-1.1-.9-2-2-2zM9 17H7v-7h2v7zm4 0h-2V7h2v10zm4 0h-2v-4h2v4z\"/>\n",
              "    </g>\n",
              "</svg>\n",
              "  </button>\n",
              "\n",
              "<style>\n",
              "  .colab-df-quickchart {\n",
              "      --bg-color: #E8F0FE;\n",
              "      --fill-color: #1967D2;\n",
              "      --hover-bg-color: #E2EBFA;\n",
              "      --hover-fill-color: #174EA6;\n",
              "      --disabled-fill-color: #AAA;\n",
              "      --disabled-bg-color: #DDD;\n",
              "  }\n",
              "\n",
              "  [theme=dark] .colab-df-quickchart {\n",
              "      --bg-color: #3B4455;\n",
              "      --fill-color: #D2E3FC;\n",
              "      --hover-bg-color: #434B5C;\n",
              "      --hover-fill-color: #FFFFFF;\n",
              "      --disabled-bg-color: #3B4455;\n",
              "      --disabled-fill-color: #666;\n",
              "  }\n",
              "\n",
              "  .colab-df-quickchart {\n",
              "    background-color: var(--bg-color);\n",
              "    border: none;\n",
              "    border-radius: 50%;\n",
              "    cursor: pointer;\n",
              "    display: none;\n",
              "    fill: var(--fill-color);\n",
              "    height: 32px;\n",
              "    padding: 0;\n",
              "    width: 32px;\n",
              "  }\n",
              "\n",
              "  .colab-df-quickchart:hover {\n",
              "    background-color: var(--hover-bg-color);\n",
              "    box-shadow: 0 1px 2px rgba(60, 64, 67, 0.3), 0 1px 3px 1px rgba(60, 64, 67, 0.15);\n",
              "    fill: var(--button-hover-fill-color);\n",
              "  }\n",
              "\n",
              "  .colab-df-quickchart-complete:disabled,\n",
              "  .colab-df-quickchart-complete:disabled:hover {\n",
              "    background-color: var(--disabled-bg-color);\n",
              "    fill: var(--disabled-fill-color);\n",
              "    box-shadow: none;\n",
              "  }\n",
              "\n",
              "  .colab-df-spinner {\n",
              "    border: 2px solid var(--fill-color);\n",
              "    border-color: transparent;\n",
              "    border-bottom-color: var(--fill-color);\n",
              "    animation:\n",
              "      spin 1s steps(1) infinite;\n",
              "  }\n",
              "\n",
              "  @keyframes spin {\n",
              "    0% {\n",
              "      border-color: transparent;\n",
              "      border-bottom-color: var(--fill-color);\n",
              "      border-left-color: var(--fill-color);\n",
              "    }\n",
              "    20% {\n",
              "      border-color: transparent;\n",
              "      border-left-color: var(--fill-color);\n",
              "      border-top-color: var(--fill-color);\n",
              "    }\n",
              "    30% {\n",
              "      border-color: transparent;\n",
              "      border-left-color: var(--fill-color);\n",
              "      border-top-color: var(--fill-color);\n",
              "      border-right-color: var(--fill-color);\n",
              "    }\n",
              "    40% {\n",
              "      border-color: transparent;\n",
              "      border-right-color: var(--fill-color);\n",
              "      border-top-color: var(--fill-color);\n",
              "    }\n",
              "    60% {\n",
              "      border-color: transparent;\n",
              "      border-right-color: var(--fill-color);\n",
              "    }\n",
              "    80% {\n",
              "      border-color: transparent;\n",
              "      border-right-color: var(--fill-color);\n",
              "      border-bottom-color: var(--fill-color);\n",
              "    }\n",
              "    90% {\n",
              "      border-color: transparent;\n",
              "      border-bottom-color: var(--fill-color);\n",
              "    }\n",
              "  }\n",
              "</style>\n",
              "\n",
              "  <script>\n",
              "    async function quickchart(key) {\n",
              "      const quickchartButtonEl =\n",
              "        document.querySelector('#' + key + ' button');\n",
              "      quickchartButtonEl.disabled = true;  // To prevent multiple clicks.\n",
              "      quickchartButtonEl.classList.add('colab-df-spinner');\n",
              "      try {\n",
              "        const charts = await google.colab.kernel.invokeFunction(\n",
              "            'suggestCharts', [key], {});\n",
              "      } catch (error) {\n",
              "        console.error('Error during call to suggestCharts:', error);\n",
              "      }\n",
              "      quickchartButtonEl.classList.remove('colab-df-spinner');\n",
              "      quickchartButtonEl.classList.add('colab-df-quickchart-complete');\n",
              "    }\n",
              "    (() => {\n",
              "      let quickchartButtonEl =\n",
              "        document.querySelector('#df-895b8e51-4e1f-4abd-88cd-537f5eaf5902 button');\n",
              "      quickchartButtonEl.style.display =\n",
              "        google.colab.kernel.accessAllowed ? 'block' : 'none';\n",
              "    })();\n",
              "  </script>\n",
              "</div>\n",
              "\n",
              "  <div id=\"id_e348d202-aa70-4a1f-8fc7-b5cc82053ff0\">\n",
              "    <style>\n",
              "      .colab-df-generate {\n",
              "        background-color: #E8F0FE;\n",
              "        border: none;\n",
              "        border-radius: 50%;\n",
              "        cursor: pointer;\n",
              "        display: none;\n",
              "        fill: #1967D2;\n",
              "        height: 32px;\n",
              "        padding: 0 0 0 0;\n",
              "        width: 32px;\n",
              "      }\n",
              "\n",
              "      .colab-df-generate:hover {\n",
              "        background-color: #E2EBFA;\n",
              "        box-shadow: 0px 1px 2px rgba(60, 64, 67, 0.3), 0px 1px 3px 1px rgba(60, 64, 67, 0.15);\n",
              "        fill: #174EA6;\n",
              "      }\n",
              "\n",
              "      [theme=dark] .colab-df-generate {\n",
              "        background-color: #3B4455;\n",
              "        fill: #D2E3FC;\n",
              "      }\n",
              "\n",
              "      [theme=dark] .colab-df-generate:hover {\n",
              "        background-color: #434B5C;\n",
              "        box-shadow: 0px 1px 3px 1px rgba(0, 0, 0, 0.15);\n",
              "        filter: drop-shadow(0px 1px 2px rgba(0, 0, 0, 0.3));\n",
              "        fill: #FFFFFF;\n",
              "      }\n",
              "    </style>\n",
              "    <button class=\"colab-df-generate\" onclick=\"generateWithVariable('lookalikes_df')\"\n",
              "            title=\"Generate code using this dataframe.\"\n",
              "            style=\"display:none;\">\n",
              "\n",
              "  <svg xmlns=\"http://www.w3.org/2000/svg\" height=\"24px\"viewBox=\"0 0 24 24\"\n",
              "       width=\"24px\">\n",
              "    <path d=\"M7,19H8.4L18.45,9,17,7.55,7,17.6ZM5,21V16.75L18.45,3.32a2,2,0,0,1,2.83,0l1.4,1.43a1.91,1.91,0,0,1,.58,1.4,1.91,1.91,0,0,1-.58,1.4L9.25,21ZM18.45,9,17,7.55Zm-12,3A5.31,5.31,0,0,0,4.9,8.1,5.31,5.31,0,0,0,1,6.5,5.31,5.31,0,0,0,4.9,4.9,5.31,5.31,0,0,0,6.5,1,5.31,5.31,0,0,0,8.1,4.9,5.31,5.31,0,0,0,12,6.5,5.46,5.46,0,0,0,6.5,12Z\"/>\n",
              "  </svg>\n",
              "    </button>\n",
              "    <script>\n",
              "      (() => {\n",
              "      const buttonEl =\n",
              "        document.querySelector('#id_e348d202-aa70-4a1f-8fc7-b5cc82053ff0 button.colab-df-generate');\n",
              "      buttonEl.style.display =\n",
              "        google.colab.kernel.accessAllowed ? 'block' : 'none';\n",
              "\n",
              "      buttonEl.onclick = () => {\n",
              "        google.colab.notebook.generateWithVariable('lookalikes_df');\n",
              "      }\n",
              "      })();\n",
              "    </script>\n",
              "  </div>\n",
              "\n",
              "    </div>\n",
              "  </div>\n"
            ],
            "application/vnd.google.colaboratory.intrinsic+json": {
              "type": "dataframe",
              "variable_name": "lookalikes_df",
              "summary": "{\n  \"name\": \"lookalikes_df\",\n  \"rows\": 20,\n  \"fields\": [\n    {\n      \"column\": \"Lookalike_1\",\n      \"properties\": {\n        \"dtype\": \"string\",\n        \"num_unique_values\": 20,\n        \"samples\": [\n          [\n            \"C0194\",\n            0.40492753118932373\n          ],\n          [\n            \"C0177\",\n            0.3650726150609098\n          ],\n          [\n            \"C0187\",\n            0.6344636680418954\n          ]\n        ],\n        \"semantic_type\": \"\",\n        \"description\": \"\"\n      }\n    },\n    {\n      \"column\": \"Lookalike_2\",\n      \"properties\": {\n        \"dtype\": \"string\",\n        \"num_unique_values\": 20,\n        \"samples\": [\n          [\n            \"C0104\",\n            0.3740015051203949\n          ],\n          [\n            \"C0115\",\n            0.3248317582517501\n          ],\n          [\n            \"C0064\",\n            0.5402930019578338\n          ]\n        ],\n        \"semantic_type\": \"\",\n        \"description\": \"\"\n      }\n    },\n    {\n      \"column\": \"Lookalike_3\",\n      \"properties\": {\n        \"dtype\": \"string\",\n        \"num_unique_values\": 20,\n        \"samples\": [\n          [\n            \"C0020\",\n            0.36660865634533324\n          ],\n          [\n            \"C0059\",\n            0.31189939390793797\n          ],\n          [\n            \"C0052\",\n            0.4583307205365149\n          ]\n        ],\n        \"semantic_type\": \"\",\n        \"description\": \"\"\n      }\n    }\n  ]\n}"
            }
          },
          "metadata": {},
          "execution_count": 16
        }
      ]
    },
    {
      "cell_type": "code",
      "source": [
        "from google.colab import files\n",
        "\n",
        "# Download the Lookalike.csv file\n",
        "files.download(\"Lookalike.csv\")\n"
      ],
      "metadata": {
        "colab": {
          "base_uri": "https://localhost:8080/",
          "height": 17
        },
        "id": "-EG5tSaCgAwW",
        "outputId": "6775672e-9c91-4c6b-e4b9-63a399d40e26"
      },
      "execution_count": 18,
      "outputs": [
        {
          "output_type": "display_data",
          "data": {
            "text/plain": [
              "<IPython.core.display.Javascript object>"
            ],
            "application/javascript": [
              "\n",
              "    async function download(id, filename, size) {\n",
              "      if (!google.colab.kernel.accessAllowed) {\n",
              "        return;\n",
              "      }\n",
              "      const div = document.createElement('div');\n",
              "      const label = document.createElement('label');\n",
              "      label.textContent = `Downloading \"${filename}\": `;\n",
              "      div.appendChild(label);\n",
              "      const progress = document.createElement('progress');\n",
              "      progress.max = size;\n",
              "      div.appendChild(progress);\n",
              "      document.body.appendChild(div);\n",
              "\n",
              "      const buffers = [];\n",
              "      let downloaded = 0;\n",
              "\n",
              "      const channel = await google.colab.kernel.comms.open(id);\n",
              "      // Send a message to notify the kernel that we're ready.\n",
              "      channel.send({})\n",
              "\n",
              "      for await (const message of channel.messages) {\n",
              "        // Send a message to notify the kernel that we're ready.\n",
              "        channel.send({})\n",
              "        if (message.buffers) {\n",
              "          for (const buffer of message.buffers) {\n",
              "            buffers.push(buffer);\n",
              "            downloaded += buffer.byteLength;\n",
              "            progress.value = downloaded;\n",
              "          }\n",
              "        }\n",
              "      }\n",
              "      const blob = new Blob(buffers, {type: 'application/binary'});\n",
              "      const a = document.createElement('a');\n",
              "      a.href = window.URL.createObjectURL(blob);\n",
              "      a.download = filename;\n",
              "      div.appendChild(a);\n",
              "      a.click();\n",
              "      div.remove();\n",
              "    }\n",
              "  "
            ]
          },
          "metadata": {}
        },
        {
          "output_type": "display_data",
          "data": {
            "text/plain": [
              "<IPython.core.display.Javascript object>"
            ],
            "application/javascript": [
              "download(\"download_9a780cb0-79e3-402e-842f-49620c1e1013\", \"Lookalike.csv\", 2104)"
            ]
          },
          "metadata": {}
        }
      ]
    }
  ]
}